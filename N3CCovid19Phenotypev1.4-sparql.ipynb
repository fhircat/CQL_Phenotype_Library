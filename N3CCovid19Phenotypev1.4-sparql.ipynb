{
 "cells": [
  {
   "cell_type": "code",
   "execution_count": 3,
   "metadata": {},
   "outputs": [
    {
     "data": {
      "text/html": [
       "<div class=\"krn-spql\"><div class=\"magic\">Endpoint set to: http://fhircat.org:7200/repositories/synthea-covid19-data</div><div class=\"magic\">Display: table</div></div>"
      ],
      "text/plain": [
       "Endpoint set to: http://fhircat.org:7200/repositories/synthea-covid19-data\n",
       "Display: table\n"
      ]
     },
     "metadata": {},
     "output_type": "display_data"
    },
    {
     "data": {
      "text/html": [
       "<div class=\"krn-spql\"><table><tr class=hdr><th>count</th></tr><tr class=odd><td class=val>908</td></tr></table><div class=\"tinfo\">Total: 1, Shown: 1</div></div>"
      ]
     },
     "metadata": {},
     "output_type": "display_data"
    }
   ],
   "source": [
    "%endpoint http://fhircat.org:7200/repositories/synthea-covid19-data\n",
    "%display table\n",
    "\n",
    "PREFIX rdf: <http://www.w3.org/1999/02/22-rdf-syntax-ns#>\n",
    "PREFIX fhir: <http://hl7.org/fhir/>\n",
    "PREFIX rdfs: <http://www.w3.org/2000/01/rdf-schema#>\n",
    "SELECT DISTINCT (COUNT(distinct ?patient) AS ?count) where {\n",
    "\n",
    "    ?labtest a fhir:DiagnosticReport .\n",
    "    ?labtest fhir:DiagnosticReport.code [ fhir:CodeableConcept.coding       \t[\n",
    "        fhir:Coding.display [ \n",
    "        \tfhir:value ?displayvalue ] ;\n",
    "        fhir:Coding.code [\n",
    "        \tfhir:value ?codevalue ];\n",
    "        fhir:Coding.system [\n",
    "        \tfhir:value ?systemvalue ];\n",
    "      ]].\n",
    "    \n",
    "   FILTER (?systemvalue = \"http://loinc.org\" &&\n",
    "            ?codevalue in ( \"94307-6\"\t,\n",
    "\t\t\t\t\t\t\t\"94308-4\"\t,\n",
    "\t\t\t\t\t\t\t\"94309-2\"\t,\n",
    "\t\t\t\t\t\t\t\"94310-0\"\t,\n",
    "\t\t\t\t\t\t\t\"94311-8\"\t,\n",
    "\t\t\t\t\t\t\t\"94312-6\"\t,\n",
    "\t\t\t\t\t\t\t\"94313-4\"\t,\n",
    "\t\t\t\t\t\t\t\"94314-2\"\t,\n",
    "\t\t\t\t\t\t\t\"94315-9\"\t,\n",
    "\t\t\t\t\t\t\t\"94316-7\"\t,\n",
    "\t\t\t\t\t\t\t\"94500-6\"\t,\n",
    "\t\t\t\t\t\t\t\"94502-2\"\t,\n",
    "\t\t\t\t\t\t\t\"94505-5\"\t,\n",
    "\t\t\t\t\t\t\t\"94506-3\"\t,\n",
    "\t\t\t\t\t\t\t\"94507-1\"\t,\n",
    "\t\t\t\t\t\t\t\"94508-9\"\t,\n",
    "\t\t\t\t\t\t\t\"94509-7\"\t,\n",
    "\t\t\t\t\t\t\t\"94510-5\"\t,\n",
    "\t\t\t\t\t\t\t\"94511-3\"\t,\n",
    "\t\t\t\t\t\t\t\"94532-9\"\t,\n",
    "\t\t\t\t\t\t\t\"94533-7\"\t,\n",
    "\t\t\t\t\t\t\t\"94534-5\"\t,\n",
    "\t\t\t\t\t\t\t\"94547-7\"\t,\n",
    "\t\t\t\t\t\t\t\"94558-4\"\t,\n",
    "\t\t\t\t\t\t\t\"94559-2\"\t,\n",
    "\t\t\t\t\t\t\t\"94562-6\"\t,\n",
    "\t\t\t\t\t\t\t\"94563-4\"\t,\n",
    "\t\t\t\t\t\t\t\"94564-2\"\t,\n",
    "\t\t\t\t\t\t\t\"94565-9\"\t,\n",
    "\t\t\t\t\t\t\t\"94639-2\"\t,\n",
    "\t\t\t\t\t\t\t\"94640-0\"\t,\n",
    "\t\t\t\t\t\t\t\"94641-8\"\t,\n",
    "\t\t\t\t\t\t\t\"94642-6\"\t,\n",
    "\t\t\t\t\t\t\t\"94643-4\"\t,\n",
    "\t\t\t\t\t\t\t\"94644-2\"\t,\n",
    "\t\t\t\t\t\t\t\"94645-9\"\t,\n",
    "\t\t\t\t\t\t\t\"94646-7\"\t,\n",
    "\t\t\t\t\t\t\t\"94647-5\"\t,\n",
    "\t\t\t\t\t\t\t\"94660-8\"\t,\n",
    "\t\t\t\t\t\t\t\"94661-6\"\t,\n",
    "\t\t\t\t\t\t\t\"94306-8\"\t,\n",
    "\t\t\t\t\t\t\t\"94503-0\"\t,\n",
    "\t\t\t\t\t\t\t\"94504-8\"\t,\n",
    "\t\t\t\t\t\t\t\"94531-1\"\t,\n",
    "\t\t\t\t\t\t\t\"94720-0\"\t,\n",
    "\t\t\t\t\t\t\t\"94758-0\"\t,\n",
    "\t\t\t\t\t\t\t\"94759-8\"\t,\n",
    "\t\t\t\t\t\t\t\"94760-6\"\t,\n",
    "\t\t\t\t\t\t\t\"94762-2\"\t,\n",
    "\t\t\t\t\t\t\t\"94763-0\"\t,\n",
    "\t\t\t\t\t\t\t\"94764-8\"\t,\n",
    "\t\t\t\t\t\t\t\"94765-5\"\t,\n",
    "\t\t\t\t\t\t\t\"94766-3\"\t,\n",
    "\t\t\t\t\t\t\t\"94767-1\"\t,\n",
    "\t\t\t\t\t\t\t\"94768-9\"\t,\n",
    "\t\t\t\t\t\t\t\"94769-7\"\t,\n",
    "\t\t\t\t\t\t\t\"94819-0\"\t) )  \n",
    "\n",
    "    \n",
    "   ?labtest fhir:DiagnosticReport.issued [\n",
    "        fhir:value ?issued ].\n",
    "    \n",
    "\tFILTER (YEAR(?issued) >=2020 && \n",
    "        MONTH(?issued) >= 1 &&\n",
    "        DAY(?issued) >=1)\n",
    "        \n",
    "    ?labtest fhir:DiagnosticReport.status [\n",
    "        fhir:value ?status\n",
    "    ] .\n",
    "    ?labtest fhir:DiagnosticReport.subject [\n",
    "    \tfhir:link ?patient\n",
    "    ] .\n",
    "}"
   ]
  },
  {
   "cell_type": "code",
   "execution_count": 4,
   "metadata": {},
   "outputs": [
    {
     "data": {
      "text/html": [
       "<div class=\"krn-spql\"><table><tr class=hdr><th>count</th></tr><tr class=odd><td class=val>0</td></tr></table><div class=\"tinfo\">Total: 1, Shown: 1</div></div>"
      ]
     },
     "metadata": {},
     "output_type": "display_data"
    }
   ],
   "source": [
    "PREFIX rdf: <http://www.w3.org/1999/02/22-rdf-syntax-ns#>\n",
    "PREFIX fhir: <http://hl7.org/fhir/>\n",
    "PREFIX rdfs: <http://www.w3.org/2000/01/rdf-schema#>\n",
    "SELECT DISTINCT (COUNT(distinct ?patient) AS ?count) where {\n",
    "\n",
    "    ?procedure a fhir:Procedure .\n",
    "    ?procedure fhir:Procedure.subject [fhir:link ?patient ;].\n",
    "    ##?procedure fhir:Procedure.encounter [fhir:link ?encounter ;].\n",
    "    ?procedure fhir:Procedure.code [\n",
    "        fhir:CodeableConcept.coding [\n",
    "        fhir:index ?pindex;\n",
    "        fhir:Coding.code [fhir:value ?pcodingCode] ;\n",
    "        fhir:Coding.system [fhir:value ?pcodingSystem] ;\n",
    "        fhir:Coding.display [fhir:value ?pcodingDisplay];\n",
    "        ]\n",
    "    ].   \n",
    "     FILTER ((?pcodingSystem = \"http://www.ama-assn.org/go/cpt\" && \n",
    "     ?pcodingCode in (\"87635\",\n",
    "                     \"86318\",\n",
    "\t\t\t\t\t \"86328\",\n",
    "\t\t\t\t\t\"86769\")) ||\n",
    "\t\t\t(?pcodingSystem = \"https://www.cms.gov/Medicare/Coding/HCPCS\" && \n",
    "     \t\t?pcodingCode in (\"U0001\",\n",
    "\t\t\t\t\t\t\t\"U0002\"))\t\t\t\t\t\n",
    "\t\t\t)\t\t\t\t\t\n",
    "    ?procedure fhir:Procedure.performedPeriod [\n",
    "        fhir:Period.start [fhir:value ?pstart; ];\n",
    "        fhir:Period.end   [fhir:value ?pend; ] ;\n",
    "    ] .\n",
    "    \n",
    "    FILTER (YEAR(?pstart) >=2020 && \n",
    "        MONTH(?pstart) >= 1 &&\n",
    "        DAY(?pstart) >=1)    \n",
    "}"
   ]
  },
  {
   "cell_type": "code",
   "execution_count": 5,
   "metadata": {},
   "outputs": [
    {
     "data": {
      "text/html": [
       "<div class=\"krn-spql\"><table><tr class=hdr><th>count</th></tr><tr class=odd><td class=val>908</td></tr></table><div class=\"tinfo\">Total: 1, Shown: 1</div></div>"
      ]
     },
     "metadata": {},
     "output_type": "display_data"
    }
   ],
   "source": [
    "PREFIX rdf: <http://www.w3.org/1999/02/22-rdf-syntax-ns#>\n",
    "PREFIX fhir: <http://hl7.org/fhir/>\n",
    "PREFIX rdfs: <http://www.w3.org/2000/01/rdf-schema#>\n",
    "SELECT DISTINCT (COUNT(distinct ?patient) AS ?count) where {\n",
    "\n",
    "?condition a fhir:Condition .\n",
    "    ?condition fhir:Condition.subject [fhir:link ?patient ;].\n",
    "    ?condition fhir:Condition.code [\n",
    "        fhir:CodeableConcept.coding [\n",
    "        fhir:index ?index;\n",
    "        fhir:Coding.code [fhir:value ?codingCode] ;\n",
    "        fhir:Coding.system [fhir:value ?codingSystem] ;\n",
    "        fhir:Coding.display [fhir:value ?codingDisplay];\n",
    "        ]\n",
    "    ].\n",
    "    \n",
    "     FILTER (?codingSystem = \"http://snomed.info/sct\" && \n",
    "     ?codingCode in (\"840539006\",\n",
    "\t\t\t\t\t\"840544004\"))\n",
    "\n",
    "    ?condition fhir:Condition.onsetDateTime [\n",
    "    \tfhir:value ?onsetDateTime \n",
    "    ] .\n",
    "    \n",
    "    FILTER (YEAR(?onsetDateTime) >=2020 && \n",
    "        MONTH(?onsetDateTime) >= 1 &&\n",
    "        DAY(?onsetDateTime) >=1)       \n",
    "}"
   ]
  },
  {
   "cell_type": "code",
   "execution_count": 8,
   "metadata": {},
   "outputs": [
    {
     "data": {
      "text/html": [
       "<div class=\"krn-spql\"><table><tr class=hdr><th>patient</th>\n",
       "<th>encounters</th></tr></table><div class=\"tinfo\">Total: 0, Shown: 0</div></div>"
      ]
     },
     "metadata": {},
     "output_type": "display_data"
    }
   ],
   "source": [
    "PREFIX rdf: <http://www.w3.org/1999/02/22-rdf-syntax-ns#>\n",
    "PREFIX fhir: <http://hl7.org/fhir/>\n",
    "PREFIX rdfs: <http://www.w3.org/2000/01/rdf-schema#>\n",
    "SELECT DISTINCT ?patient (COUNT(distinct ?encounter) AS ?encounters) where {\n",
    "\n",
    "?condition a fhir:Condition .\n",
    "    ?condition fhir:Condition.subject [fhir:link ?patient ;].\n",
    "    ?condition fhir:Condition.code [\n",
    "        fhir:CodeableConcept.coding [\n",
    "        fhir:index ?index;\n",
    "        fhir:Coding.code [fhir:value ?codingCode] ;\n",
    "        fhir:Coding.system [fhir:value ?codingSystem] ;\n",
    "        fhir:Coding.display [fhir:value ?codingDisplay];\n",
    "        ]\n",
    "    ].\n",
    "    \n",
    "     FILTER (?codingSystem = \"http://snomed.info/sct\" && \n",
    "     ?codingCode in (\"840546002\"\t,\n",
    "\t\t\t\t\t\"103001002\"\t,\n",
    "\t\t\t\t\t\"11833005\"\t,\n",
    "\t\t\t\t\t\"267036007\"\t,\n",
    "\t\t\t\t\t\"28743005\"\t,\n",
    "\t\t\t\t\t\"36955009\"\t,\n",
    "\t\t\t\t\t\"426000000\"\t,\n",
    "\t\t\t\t\t\"44169009\"\t,\n",
    "\t\t\t\t\t\"49727002\"\t,\n",
    "\t\t\t\t\t\"135883003\"\t,\n",
    "\t\t\t\t\t\"161855003\"\t,\n",
    "\t\t\t\t\t\"161939006\"\t,\n",
    "\t\t\t\t\t\"161940008\"\t,\n",
    "\t\t\t\t\t\"161941007\"\t,\n",
    "\t\t\t\t\t\"2237002\"\t,\n",
    "\t\t\t\t\t\"23141003\"\t,\n",
    "\t\t\t\t\t\"247410004\"\t,\n",
    "\t\t\t\t\t\"274640006\"\t,\n",
    "\t\t\t\t\t\"274664007\"\t,\n",
    "\t\t\t\t\t\"284523002\"\t,\n",
    "\t\t\t\t\t\"386661006\"\t,\n",
    "\t\t\t\t\t\"409702008\"\t,\n",
    "\t\t\t\t\t\"426976009\"\t,\n",
    "\t\t\t\t\t\"43724002\"\t,\n",
    "\t\t\t\t\t\"60845006\"\t,\n",
    "\t\t\t\t\t\"75483001\"\t))\n",
    "\n",
    "    ?condition fhir:Condition.onsetDateTime [\n",
    "    \tfhir:value ?onsetDateTime \n",
    "    ] .\n",
    "    \n",
    "    FILTER (YEAR(?onsetDateTime) >=2020 && \n",
    "        MONTH(?onsetDateTime) >= 1 &&\n",
    "        DAY(?onsetDateTime) >=1) \n",
    "    \n",
    "   \t?condition fhir:Condition.encounter [\n",
    "\t\tfhir:link ?encounter\n",
    "\t] . \n",
    "}GROUP BY ?patient HAVING (?encounters > 1)"
   ]
  },
  {
   "cell_type": "code",
   "execution_count": null,
   "metadata": {},
   "outputs": [],
   "source": []
  }
 ],
 "metadata": {
  "kernelspec": {
   "display_name": "SPARQL",
   "language": "sparql",
   "name": "sparql"
  },
  "language_info": {
   "codemirror_mode": {
    "name": "sparql"
   },
   "mimetype": "application/sparql-query",
   "name": "sparql",
   "pygments_lexer": "sparql-nb"
  }
 },
 "nbformat": 4,
 "nbformat_minor": 4
}
